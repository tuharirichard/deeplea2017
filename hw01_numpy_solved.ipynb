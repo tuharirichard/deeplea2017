{
 "cells": [
  {
   "cell_type": "code",
   "execution_count": 16,
   "metadata": {},
   "outputs": [
    {
     "name": "stdout",
     "output_type": "stream",
     "text": [
      "Populating the interactive namespace from numpy and matplotlib\n"
     ]
    }
   ],
   "source": [
    "%pylab inline\n",
    "import numpy as np\n",
    "import time"
   ]
  },
  {
   "cell_type": "markdown",
   "metadata": {},
   "source": [
    "\n",
    "## Create a columns vector full of zeros!\n"
   ]
  },
  {
   "cell_type": "code",
   "execution_count": 65,
   "metadata": {
    "collapsed": true
   },
   "outputs": [],
   "source": [
    "def graded_zero_vector(length):\n",
    "    ### Start code here\n",
    "    zeroVec=np.zeros((length,1))\n",
    "    ### End code here\n",
    "    return(zeroVec)"
   ]
  },
  {
   "cell_type": "code",
   "execution_count": 66,
   "metadata": {},
   "outputs": [
    {
     "name": "stdout",
     "output_type": "stream",
     "text": [
      "Shape: (50, 1)\n",
      "Shape: (123, 1)\n"
     ]
    }
   ],
   "source": [
    "print('Shape:', graded_zero_vector(50).shape)\n",
    "print('Shape:', graded_zero_vector(123).shape)"
   ]
  },
  {
   "cell_type": "markdown",
   "metadata": {},
   "source": [
    "\n",
    "## Create a vector for that vec_i = i!"
   ]
  },
  {
   "cell_type": "code",
   "execution_count": 30,
   "metadata": {},
   "outputs": [],
   "source": [
    "def graded_vec_i(length):\n",
    "    ### Start code here\n",
    "    vec = [float(i) for i in range(length)]\n",
    "    ### End code here\n",
    "    return(vec)"
   ]
  },
  {
   "cell_type": "code",
   "execution_count": 28,
   "metadata": {},
   "outputs": [],
   "source": [
    "def graded_vec_i(lenght):\n",
    "    ### Start code here\n",
    "    vec = np.linspace(0, lenght-1, lenght)\n",
    "    ### End code here\n",
    "    return(vec)"
   ]
  },
  {
   "cell_type": "code",
   "execution_count": null,
   "metadata": {},
   "outputs": [
    {
     "name": "stdout",
     "output_type": "stream",
     "text": [
      "Sum: 4999999950000000.0\n"
     ]
    }
   ],
   "source": [
    "t0 = time.time()\n",
    "print('Sum:', sum(graded_vec_i(100000000)))\n",
    "print('Vector:', graded_vec_i(100000000))\n",
    "print(time.time() - t0)"
   ]
  },
  {
   "cell_type": "markdown",
   "metadata": {},
   "source": [
    "## Generate the 3 Pauli matricies (each has a size of 2x2)!"
   ]
  },
  {
   "cell_type": "code",
   "execution_count": 69,
   "metadata": {},
   "outputs": [],
   "source": [
    "def graded_generate_pauli():\n",
    "    ### Start code here\n",
    "    pauliX = np.array([[0.,1.],[1.,0.]])\n",
    "    pauliY = np.array([[0.,-1.j],[1.j,0.]])\n",
    "    pauliZ = np.array([[1.,0.],[0.,-1.]])\n",
    "    ### End code here\n",
    "    return(pauliX, pauliY, pauliZ)"
   ]
  },
  {
   "cell_type": "code",
   "execution_count": 70,
   "metadata": {},
   "outputs": [
    {
     "name": "stdout",
     "output_type": "stream",
     "text": [
      "Pauli X: [[ 0.  1.]\n",
      " [ 1.  0.]]\n"
     ]
    }
   ],
   "source": [
    "print('Pauli X:', graded_generate_pauli()[0])"
   ]
  },
  {
   "cell_type": "markdown",
   "metadata": {},
   "source": [
    "## Check if they are really Pauli!\n",
    "\n",
    "### First calculate their determinant. Then their square and trace (spur) too!"
   ]
  },
  {
   "cell_type": "code",
   "execution_count": 71,
   "metadata": {
    "collapsed": true
   },
   "outputs": [],
   "source": [
    "def graded_pauli_check(coordinate): # coordinate can be 'X', 'Y' or 'Z'    \n",
    "    coord_index_map = {'X':0, 'Y':1, 'Z':2}\n",
    "    pauli_index = coord_index_map[coordinate]\n",
    "    ### Start code here\n",
    "    \n",
    "    #retreive the corresponding Pauli matrix (use the function above)\n",
    "    pauliMatrix = graded_generate_pauli()[pauli_index]\n",
    "    \n",
    "    # calculate its determinant\n",
    "    det = np.linalg.det(pauliMatrix)\n",
    "\n",
    "    # calculate its square\n",
    "    square = np.square(pauliMatrix)\n",
    "\n",
    "    # calculate its trace\n",
    "    trace = np.trace(pauliMatrix)\n",
    "    ### End code here\n",
    "    return(det, square, trace)"
   ]
  },
  {
   "cell_type": "code",
   "execution_count": 72,
   "metadata": {},
   "outputs": [
    {
     "name": "stdout",
     "output_type": "stream",
     "text": [
      "Determinant: (-1+0j)\n",
      "Trace: 0j\n"
     ]
    }
   ],
   "source": [
    "print('Determinant:', graded_pauli_check('Y')[0])\n",
    "print('Trace:', graded_pauli_check('Y')[2])"
   ]
  }
 ],
 "metadata": {
  "kernelspec": {
   "display_name": "Python 3",
   "language": "python",
   "name": "python3"
  },
  "language_info": {
   "codemirror_mode": {
    "name": "ipython",
    "version": 3
   },
   "file_extension": ".py",
   "mimetype": "text/x-python",
   "name": "python",
   "nbconvert_exporter": "python",
   "pygments_lexer": "ipython3",
   "version": "3.6.5"
  }
 },
 "nbformat": 4,
 "nbformat_minor": 2
}
